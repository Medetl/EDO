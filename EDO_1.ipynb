{
 "cells": [
  {
   "cell_type": "code",
   "execution_count": null,
   "id": "f2eb462d",
   "metadata": {},
   "outputs": [],
   "source": [
    "import numpy as np\n",
    "import matplotlib.pyplot as plt\n",
    "#import matplotlib as mpl\n",
    "import sympy as sp\n",
    "import scipy\n",
    "#sympy.init_printing()"
   ]
  },
  {
   "cell_type": "code",
   "execution_count": null,
   "id": "78815a5f",
   "metadata": {},
   "outputs": [],
   "source": [
    "t=sp.symbols('t')\n",
    "p=sp.Function('p')\n",
    "a=sp.symbols('a')\n",
    "b=sp.symbols('b')\n",
    "p0=sp.symbols('p0')"
   ]
  },
  {
   "cell_type": "code",
   "execution_count": null,
   "id": "bb06cef8",
   "metadata": {},
   "outputs": [],
   "source": [
    "ode=sp.Eq(sp.Derivative(p(t),t)-a*p(t)+b*p(t)*p(t),0)"
   ]
  },
  {
   "cell_type": "code",
   "execution_count": null,
   "id": "d86b6c7d",
   "metadata": {},
   "outputs": [],
   "source": [
    "ode"
   ]
  },
  {
   "cell_type": "code",
   "execution_count": null,
   "id": "a29350d0",
   "metadata": {},
   "outputs": [],
   "source": [
    "sol = sp.dsolve(ode,p(t),ics={p(0):p0})"
   ]
  },
  {
   "cell_type": "code",
   "execution_count": null,
   "id": "ebdbda76",
   "metadata": {},
   "outputs": [],
   "source": [
    "sol"
   ]
  },
  {
   "cell_type": "code",
   "execution_count": null,
   "id": "adbcb1c7",
   "metadata": {},
   "outputs": [],
   "source": [
    "constants={a:0.03,b:0.0001,p0:5}"
   ]
  },
  {
   "cell_type": "code",
   "execution_count": null,
   "id": "764537ff",
   "metadata": {},
   "outputs": [],
   "source": [
    "sol1=sol.subs(constants)"
   ]
  },
  {
   "cell_type": "code",
   "execution_count": null,
   "id": "71dcff33",
   "metadata": {},
   "outputs": [],
   "source": [
    "sol1"
   ]
  },
  {
   "cell_type": "code",
   "execution_count": null,
   "id": "e18c7fc7",
   "metadata": {},
   "outputs": [],
   "source": [
    "constants={a:0.03,b:0.0001,p0:6}"
   ]
  },
  {
   "cell_type": "code",
   "execution_count": null,
   "id": "fe80e52c",
   "metadata": {},
   "outputs": [],
   "source": [
    "sol2=sol.subs(constants)"
   ]
  },
  {
   "cell_type": "code",
   "execution_count": null,
   "id": "a84597f4",
   "metadata": {},
   "outputs": [],
   "source": [
    "sol2"
   ]
  },
  {
   "cell_type": "code",
   "execution_count": null,
   "id": "ab411126",
   "metadata": {},
   "outputs": [],
   "source": [
    "constants={a:0.03,b:0.0001,p0:7}"
   ]
  },
  {
   "cell_type": "code",
   "execution_count": null,
   "id": "2e4bb38a",
   "metadata": {},
   "outputs": [],
   "source": [
    "sol3=sol.subs(constants)"
   ]
  },
  {
   "cell_type": "code",
   "execution_count": null,
   "id": "9b763cd8",
   "metadata": {},
   "outputs": [],
   "source": [
    "sol3"
   ]
  },
  {
   "cell_type": "code",
   "execution_count": null,
   "id": "70aaa566",
   "metadata": {},
   "outputs": [],
   "source": [
    "func1 = sp.lambdify(t,sol1.rhs,'numpy')\n",
    "func2 = sp.lambdify(t,sol2.rhs,'numpy')\n",
    "func3 = sp.lambdify(t,sol3.rhs,'numpy')"
   ]
  },
  {
   "cell_type": "code",
   "execution_count": null,
   "id": "89479eef",
   "metadata": {},
   "outputs": [],
   "source": [
    "tt = scipy.arange(0,200,1)\n",
    "pp1 = func1(tt)\n",
    "pp2 = func2(tt)\n",
    "pp3 = func3(tt)"
   ]
  },
  {
   "cell_type": "code",
   "execution_count": null,
   "id": "1d474122",
   "metadata": {},
   "outputs": [],
   "source": [
    "plt.plot(tt,pp1,'r',tt,pp2,'b',tt,pp3,'g')\n",
    "plt.xlabel('tiempo t')\n",
    "plt.ylabel('Poblacion p(t)')\n",
    "plt.show()"
   ]
  },
  {
   "cell_type": "code",
   "execution_count": null,
   "id": "951000dc",
   "metadata": {},
   "outputs": [],
   "source": [
    "sp.classify_ode(ode)"
   ]
  },
  {
   "cell_type": "code",
   "execution_count": null,
   "id": "733ae3a7",
   "metadata": {},
   "outputs": [],
   "source": [
    "sol=sp.dsolve(ode,p(t))"
   ]
  },
  {
   "cell_type": "code",
   "execution_count": null,
   "id": "3a0e920f",
   "metadata": {},
   "outputs": [],
   "source": [
    "sol"
   ]
  },
  {
   "cell_type": "code",
   "execution_count": null,
   "id": "8877aad6",
   "metadata": {},
   "outputs": [],
   "source": [
    "sp.checkodesol(ode,sol)"
   ]
  },
  {
   "cell_type": "markdown",
   "id": "d674f1ef",
   "metadata": {},
   "source": [
    "# Ecuación de Lagrange"
   ]
  },
  {
   "cell_type": "code",
   "execution_count": null,
   "id": "cbc0ea84",
   "metadata": {},
   "outputs": [],
   "source": [
    "from sympy import *"
   ]
  },
  {
   "cell_type": "code",
   "execution_count": null,
   "id": "2e06ff6f",
   "metadata": {},
   "outputs": [],
   "source": [
    "x=sp.symbols('x')\n",
    "y=sp.Function('y')"
   ]
  },
  {
   "cell_type": "code",
   "execution_count": null,
   "id": "446f4445",
   "metadata": {},
   "outputs": [],
   "source": [
    "ode2=sp.Eq(log(sp.Derivative(y(x),x))+2*x*sp.Derivative(y(x),x)-y(x),0)\n",
    "sol2 = sp.dsolve(ode2,y(x))"
   ]
  },
  {
   "cell_type": "code",
   "execution_count": null,
   "id": "cedf8cb3",
   "metadata": {},
   "outputs": [],
   "source": [
    "ode2"
   ]
  },
  {
   "cell_type": "code",
   "execution_count": null,
   "id": "a967fd7b",
   "metadata": {},
   "outputs": [],
   "source": [
    "sol2"
   ]
  },
  {
   "cell_type": "code",
   "execution_count": null,
   "id": "6c36224b",
   "metadata": {},
   "outputs": [],
   "source": []
  }
 ],
 "metadata": {
  "kernelspec": {
   "display_name": "Python 3 (ipykernel)",
   "language": "python",
   "name": "python3"
  },
  "language_info": {
   "codemirror_mode": {
    "name": "ipython",
    "version": 3
   },
   "file_extension": ".py",
   "mimetype": "text/x-python",
   "name": "python",
   "nbconvert_exporter": "python",
   "pygments_lexer": "ipython3",
   "version": "3.7.3"
  }
 },
 "nbformat": 4,
 "nbformat_minor": 5
}
