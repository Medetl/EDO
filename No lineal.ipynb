{
 "cells": [
  {
   "cell_type": "code",
   "execution_count": 1,
   "id": "bbd0db89",
   "metadata": {},
   "outputs": [],
   "source": [
    "import sympy as sym"
   ]
  },
  {
   "cell_type": "code",
   "execution_count": 18,
   "id": "fdb5c50d",
   "metadata": {},
   "outputs": [],
   "source": [
    "sym.init_printing() #Sirve para escribir simbolicamente las salidas"
   ]
  },
  {
   "cell_type": "code",
   "execution_count": 19,
   "id": "5e7125dc",
   "metadata": {},
   "outputs": [],
   "source": [
    "x,y=sym.symbols('x,y')"
   ]
  },
  {
   "cell_type": "code",
   "execution_count": 20,
   "id": "c5bf462e",
   "metadata": {},
   "outputs": [],
   "source": [
    "f=sym.Eq(x+y**2,1)\n",
    "g=sym.Eq(x*y+x**2,0)"
   ]
  },
  {
   "cell_type": "code",
   "execution_count": 21,
   "id": "0f6e2154",
   "metadata": {},
   "outputs": [
    {
     "data": {
      "image/png": "[encoded data removed]",
      "text/latex": [
       "$\\displaystyle \\left[ \\left( 0, \\  -1\\right), \\  \\left( 0, \\  1\\right), \\  \\left( - \\left(- \\frac{1}{2} + \\frac{\\sqrt{5}}{2}\\right) \\left(\\frac{\\sqrt{5}}{2} + \\frac{3}{2}\\right), \\  \\frac{1}{2} + \\frac{\\sqrt{5}}{2}\\right), \\  \\left( - \\left(\\frac{3}{2} - \\frac{\\sqrt{5}}{2}\\right) \\left(- \\frac{\\sqrt{5}}{2} - \\frac{1}{2}\\right), \\  \\frac{1}{2} - \\frac{\\sqrt{5}}{2}\\right)\\right]$"
      ],
      "text/plain": [
       "⎡                 ⎛ ⎛  1   √5⎞ ⎛√5   3⎞  1   √5⎞  ⎛ ⎛3   √5⎞ ⎛  √5   1⎞  1   √\n",
       "⎢(0, -1), (0, 1), ⎜-⎜- ─ + ──⎟⋅⎜── + ─⎟, ─ + ──⎟, ⎜-⎜─ - ──⎟⋅⎜- ── - ─⎟, ─ - ─\n",
       "⎣                 ⎝ ⎝  2   2 ⎠ ⎝2    2⎠  2   2 ⎠  ⎝ ⎝2   2 ⎠ ⎝  2    2⎠  2   2\n",
       "\n",
       "5⎞⎤\n",
       "─⎟⎥\n",
       " ⎠⎦"
      ]
     },
     "execution_count": 21,
     "metadata": {},
     "output_type": "execute_result"
    }
   ],
   "source": [
    "sym.solve([f,g],(x,y))"
   ]
  },
  {
   "cell_type": "markdown",
   "id": "70f884a2",
   "metadata": {},
   "source": [
    "Buscar cómo escribir el resultado en número"
   ]
  },
  {
   "cell_type": "code",
   "execution_count": 22,
   "id": "3cd27b28",
   "metadata": {},
   "outputs": [],
   "source": [
    "A = sym.Matrix([[1,2], [1,0]])"
   ]
  },
  {
   "cell_type": "code",
   "execution_count": 23,
   "id": "126a217f",
   "metadata": {},
   "outputs": [
    {
     "data": {
      "text/latex": [
       "$\\displaystyle \\left[\\begin{matrix}1 & 2\\\\1 & 0\\end{matrix}\\right]$"
      ],
      "text/plain": [
       "⎡1  2⎤\n",
       "⎢    ⎥\n",
       "⎣1  0⎦"
      ]
     },
     "execution_count": 23,
     "metadata": {},
     "output_type": "execute_result"
    }
   ],
   "source": [
    "A"
   ]
  },
  {
   "cell_type": "code",
   "execution_count": 24,
   "id": "9a4fee01",
   "metadata": {},
   "outputs": [
    {
     "data": {
      "image/png": "[encoded data removed]",
      "text/latex": [
       "$\\displaystyle -2$"
      ],
      "text/plain": [
       "-2"
      ]
     },
     "execution_count": 24,
     "metadata": {},
     "output_type": "execute_result"
    }
   ],
   "source": [
    "A.det()"
   ]
  },
  {
   "cell_type": "code",
   "execution_count": 25,
   "id": "9f1fc586",
   "metadata": {},
   "outputs": [
    {
     "data": {
      "image/png": "[encoded data removed]",
      "text/latex": [
       "$\\displaystyle 1$"
      ],
      "text/plain": [
       "1"
      ]
     },
     "execution_count": 25,
     "metadata": {},
     "output_type": "execute_result"
    }
   ],
   "source": [
    "A.trace()"
   ]
  },
  {
   "cell_type": "code",
   "execution_count": 26,
   "id": "9b920604",
   "metadata": {},
   "outputs": [
    {
     "data": {
      "image/png": "[encoded data removed]",
      "text/latex": [
       "$\\displaystyle \\left\\{ -1 : 1, \\  2 : 1\\right\\}$"
      ],
      "text/plain": [
       "{-1: 1, 2: 1}"
      ]
     },
     "execution_count": 26,
     "metadata": {},
     "output_type": "execute_result"
    }
   ],
   "source": [
    "A.eigenvals()"
   ]
  },
  {
   "cell_type": "code",
   "execution_count": 27,
   "id": "2a5c371e",
   "metadata": {},
   "outputs": [
    {
     "data": {
      "text/latex": [
       "$\\displaystyle \\left[ \\left( -1, \\  1, \\  \\left[ \\left[\\begin{matrix}-1\\\\1\\end{matrix}\\right]\\right]\\right), \\  \\left( 2, \\  1, \\  \\left[ \\left[\\begin{matrix}2\\\\1\\end{matrix}\\right]\\right]\\right)\\right]$"
      ],
      "text/plain": [
       "⎡⎛       ⎡⎡-1⎤⎤⎞  ⎛      ⎡⎡2⎤⎤⎞⎤\n",
       "⎢⎜-1, 1, ⎢⎢  ⎥⎥⎟, ⎜2, 1, ⎢⎢ ⎥⎥⎟⎥\n",
       "⎣⎝       ⎣⎣1 ⎦⎦⎠  ⎝      ⎣⎣1⎦⎦⎠⎦"
      ]
     },
     "execution_count": 27,
     "metadata": {},
     "output_type": "execute_result"
    }
   ],
   "source": [
    "A.eigenvects()  "
   ]
  },
  {
   "cell_type": "code",
   "execution_count": 28,
   "id": "d9dd96c0",
   "metadata": {},
   "outputs": [],
   "source": [
    "(v,V)=A.eigenvects()"
   ]
  },
  {
   "cell_type": "code",
   "execution_count": 29,
   "id": "8278fb58",
   "metadata": {},
   "outputs": [
    {
     "data": {
      "text/latex": [
       "$\\displaystyle \\left[\\begin{matrix}-1\\\\1\\end{matrix}\\right]$"
      ],
      "text/plain": [
       "⎡-1⎤\n",
       "⎢  ⎥\n",
       "⎣1 ⎦"
      ]
     },
     "execution_count": 29,
     "metadata": {},
     "output_type": "execute_result"
    }
   ],
   "source": [
    "v[2][0]"
   ]
  },
  {
   "cell_type": "code",
   "execution_count": 30,
   "id": "9c126789",
   "metadata": {},
   "outputs": [
    {
     "data": {
      "text/latex": [
       "$\\displaystyle \\left( \\left[\\begin{matrix}-1 & 2\\\\1 & 1\\end{matrix}\\right], \\  \\left[\\begin{matrix}-1 & 0\\\\0 & 2\\end{matrix}\\right]\\right)$"
      ],
      "text/plain": [
       "⎛⎡-1  2⎤  ⎡-1  0⎤⎞\n",
       "⎜⎢     ⎥, ⎢     ⎥⎟\n",
       "⎝⎣1   1⎦  ⎣0   2⎦⎠"
      ]
     },
     "execution_count": 30,
     "metadata": {},
     "output_type": "execute_result"
    }
   ],
   "source": [
    "A.diagonalize()"
   ]
  },
  {
   "cell_type": "code",
   "execution_count": 31,
   "id": "26ea3dd0",
   "metadata": {},
   "outputs": [],
   "source": [
    "(P,D)=A.diagonalize()"
   ]
  },
  {
   "cell_type": "code",
   "execution_count": 32,
   "id": "d080d35d",
   "metadata": {},
   "outputs": [
    {
     "data": {
      "text/latex": [
       "$\\displaystyle \\left[\\begin{matrix}-1 & 0\\\\0 & 2\\end{matrix}\\right]$"
      ],
      "text/plain": [
       "⎡-1  0⎤\n",
       "⎢     ⎥\n",
       "⎣0   2⎦"
      ]
     },
     "execution_count": 32,
     "metadata": {},
     "output_type": "execute_result"
    }
   ],
   "source": [
    "D"
   ]
  },
  {
   "cell_type": "code",
   "execution_count": 17,
   "id": "0b4ee1ae",
   "metadata": {},
   "outputs": [
    {
     "data": {
      "text/latex": [
       "$\\displaystyle \\left[\\begin{matrix}-1 & 2\\\\1 & 1\\end{matrix}\\right]$"
      ],
      "text/plain": [
       "Matrix([\n",
       "[-1, 2],\n",
       "[ 1, 1]])"
      ]
     },
     "execution_count": 17,
     "metadata": {},
     "output_type": "execute_result"
    }
   ],
   "source": [
    "P"
   ]
  },
  {
   "cell_type": "code",
   "execution_count": null,
   "id": "3593faea",
   "metadata": {},
   "outputs": [],
   "source": []
  }
 ],
 "metadata": {
  "kernelspec": {
   "display_name": "Python 3 (ipykernel)",
   "language": "python",
   "name": "python3"
  },
  "language_info": {
   "codemirror_mode": {
    "name": "ipython",
    "version": 3
   },
   "file_extension": ".py",
   "mimetype": "text/x-python",
   "name": "python",
   "nbconvert_exporter": "python",
   "pygments_lexer": "ipython3",
   "version": "3.7.3"
  }
 },
 "nbformat": 4,
 "nbformat_minor": 5
}
