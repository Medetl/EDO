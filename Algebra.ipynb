{
 "cells": [
  {
   "cell_type": "code",
   "execution_count": null,
   "id": "4e253925",
   "metadata": {},
   "outputs": [],
   "source": [
    "import sympy as sp"
   ]
  },
  {
   "cell_type": "code",
   "execution_count": null,
   "id": "a0f43a62",
   "metadata": {},
   "outputs": [],
   "source": [
    "x = sp.Symbol('x')\n",
    "y = sp.Symbol('y')"
   ]
  },
  {
   "cell_type": "code",
   "execution_count": null,
   "id": "005e3eae",
   "metadata": {},
   "outputs": [],
   "source": [
    "(x+y)**2"
   ]
  },
  {
   "cell_type": "code",
   "execution_count": null,
   "id": "731c2fd1",
   "metadata": {},
   "outputs": [],
   "source": [
    "((x+y)**2).expand()"
   ]
  },
  {
   "cell_type": "code",
   "execution_count": null,
   "id": "55252fb4",
   "metadata": {},
   "outputs": [],
   "source": [
    "((x+y)**2).subs(x, 1)"
   ]
  },
  {
   "cell_type": "code",
   "execution_count": null,
   "id": "3b8ad9e6",
   "metadata": {},
   "outputs": [],
   "source": [
    "1/( (x+2)*(x+1) )"
   ]
  },
  {
   "cell_type": "code",
   "execution_count": null,
   "id": "f8adfa00",
   "metadata": {},
   "outputs": [],
   "source": [
    "sp.apart(1/( (x+2)*(x+1) ), x)"
   ]
  },
  {
   "cell_type": "code",
   "execution_count": null,
   "id": "a3ce5f70",
   "metadata": {},
   "outputs": [],
   "source": [
    "(x+1)/(x-1)"
   ]
  },
  {
   "cell_type": "code",
   "execution_count": null,
   "id": "24e2ff68",
   "metadata": {},
   "outputs": [],
   "source": [
    "sp.apart((x+1)/(x-1), x)"
   ]
  },
  {
   "cell_type": "code",
   "execution_count": null,
   "id": "391e350d",
   "metadata": {},
   "outputs": [],
   "source": []
  }
 ],
 "metadata": {
  "kernelspec": {
   "display_name": "Python 3 (ipykernel)",
   "language": "python",
   "name": "python3"
  },
  "language_info": {
   "codemirror_mode": {
    "name": "ipython",
    "version": 3
   },
   "file_extension": ".py",
   "mimetype": "text/x-python",
   "name": "python",
   "nbconvert_exporter": "python",
   "pygments_lexer": "ipython3",
   "version": "3.7.3"
  }
 },
 "nbformat": 4,
 "nbformat_minor": 5
}
