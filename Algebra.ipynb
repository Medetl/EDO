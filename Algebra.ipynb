{
 "cells": [
  {
   "cell_type": "code",
   "execution_count": null,
   "id": "4e253925",
   "metadata": {},
   "outputs": [],
   "source": [
    "import sympy as sp"
   ]
  },
  {
   "cell_type": "code",
   "execution_count": null,
   "id": "a0f43a62",
   "metadata": {},
   "outputs": [],
   "source": [
    "x = sp.Symbol('x')\n",
    "y = sp.Symbol('y')"
   ]
  },
  {
   "cell_type": "code",
   "execution_count": null,
   "id": "005e3eae",
   "metadata": {},
   "outputs": [],
   "source": [
    "(x+y)**2"
   ]
  },
  {
   "cell_type": "code",
   "execution_count": null,
   "id": "731c2fd1",
   "metadata": {},
   "outputs": [],
   "source": [
    "((x+y)**2).expand()"
   ]
  },
  {
   "cell_type": "code",
   "execution_count": null,
   "id": "55252fb4",
   "metadata": {},
   "outputs": [],
   "source": [
    "((x+y)**2).subs(x, 1)"
   ]
  },
  {
   "cell_type": "code",
   "execution_count": null,
   "id": "3b8ad9e6",
   "metadata": {},
   "outputs": [],
   "source": [
    "1/( (x+2)*(x+1) )"
   ]
  },
  {
   "cell_type": "code",
   "execution_count": null,
   "id": "f8adfa00",
   "metadata": {},
   "outputs": [],
   "source": [
    "sp.apart(1/( (x+2)*(x+1) ), x)"
   ]
  },
  {
   "cell_type": "code",
   "execution_count": null,
   "id": "a3ce5f70",
   "metadata": {},
   "outputs": [],
   "source": [
    "(x+1)/(x-1)"
   ]
  },
  {
   "cell_type": "code",
   "execution_count": null,
   "id": "24e2ff68",
   "metadata": {},
   "outputs": [],
   "source": [
    "sp.apart((x+1)/(x-1), x)"
   ]
  },
  {
   "cell_type": "code",
   "execution_count": null,
   "id": "391e350d",
   "metadata": {},
   "outputs": [],
   "source": [
    "sp.apart(36*x-1/(x**2 + 2*x + 5), x)"
   ]
  },
  {
   "cell_type": "code",
   "execution_count": null,
   "id": "315d75a7",
   "metadata": {},
   "outputs": [],
   "source": [
    "sp.factor(x**2 + 2*x + 5)"
   ]
  },
  {
   "cell_type": "code",
   "execution_count": null,
   "id": "521c9066",
   "metadata": {},
   "outputs": [],
   "source": [
    "sp.simplify(x**2 + 2*x + 5)"
   ]
  },
  {
   "cell_type": "code",
   "execution_count": null,
   "id": "7a8b3c49",
   "metadata": {},
   "outputs": [],
   "source": [
    "sp.apart(36*x-4/((x+1)**2 + 4), x)"
   ]
  },
  {
   "cell_type": "code",
   "execution_count": null,
   "id": "91032d09",
   "metadata": {},
   "outputs": [],
   "source": [
    "sp.apart((x**2 - 7*x + 24)/((x-1)*(x-2)*(x-4)), x)"
   ]
  },
  {
   "cell_type": "markdown",
   "id": "58ad972a",
   "metadata": {},
   "source": [
    "## Transformada de Laplace"
   ]
  },
  {
   "cell_type": "code",
   "execution_count": null,
   "id": "3ac8e129",
   "metadata": {},
   "outputs": [],
   "source": [
    "t, s = sp.symbols(\"t, s\")"
   ]
  },
  {
   "cell_type": "code",
   "execution_count": null,
   "id": "c07ccac7",
   "metadata": {},
   "outputs": [],
   "source": [
    "a = sp.symbols(\"a\", real=True, positive=True)"
   ]
  },
  {
   "cell_type": "code",
   "execution_count": null,
   "id": "6c8c912d",
   "metadata": {},
   "outputs": [],
   "source": [
    "fun = sp.exp(-a*t)\n",
    "#fun=t**4\n",
    "fun = sp.sin(a*t)"
   ]
  },
  {
   "cell_type": "code",
   "execution_count": null,
   "id": "8818f27c",
   "metadata": {},
   "outputs": [],
   "source": [
    "Fs = sp.laplace_transform(fun, t, s, noconds=True)"
   ]
  },
  {
   "cell_type": "code",
   "execution_count": null,
   "id": "a7fd920a",
   "metadata": {},
   "outputs": [],
   "source": [
    "Fs"
   ]
  },
  {
   "cell_type": "markdown",
   "id": "d4a19f7e",
   "metadata": {},
   "source": [
    "# Función escalón"
   ]
  },
  {
   "cell_type": "code",
   "execution_count": null,
   "id": "4c185b00",
   "metadata": {},
   "outputs": [],
   "source": [
    "t = sp.Symbol('t')"
   ]
  },
  {
   "cell_type": "code",
   "execution_count": null,
   "id": "6d841154",
   "metadata": {},
   "outputs": [],
   "source": [
    "u = sp.Heaviside(t)\n",
    "ft = u - u.subs(t,t-2)"
   ]
  },
  {
   "cell_type": "code",
   "execution_count": null,
   "id": "56ca7d20",
   "metadata": {},
   "outputs": [],
   "source": [
    "ft"
   ]
  },
  {
   "cell_type": "code",
   "execution_count": null,
   "id": "8c10b2fc",
   "metadata": {},
   "outputs": [],
   "source": [
    "c1=sp.plotting.plot(ft)"
   ]
  },
  {
   "cell_type": "code",
   "execution_count": null,
   "id": "e115a638",
   "metadata": {},
   "outputs": [],
   "source": [
    "d = sp.DiracDelta(t)"
   ]
  },
  {
   "cell_type": "code",
   "execution_count": null,
   "id": "1c8a0ae8",
   "metadata": {},
   "outputs": [],
   "source": [
    "d"
   ]
  },
  {
   "cell_type": "code",
   "execution_count": null,
   "id": "40ec1192",
   "metadata": {},
   "outputs": [],
   "source": [
    "c2=sp.plotting.plot(d)"
   ]
  },
  {
   "cell_type": "code",
   "execution_count": null,
   "id": "c1783070",
   "metadata": {},
   "outputs": [],
   "source": [
    "gt = sp.exp(-2*t)*u + sp.exp(-t)*sp.cos(3*t)*u"
   ]
  },
  {
   "cell_type": "code",
   "execution_count": null,
   "id": "f251eefa",
   "metadata": {},
   "outputs": [],
   "source": [
    "c3=sp.plotting.plot(gt)"
   ]
  },
  {
   "cell_type": "code",
   "execution_count": null,
   "id": "58c1e27d",
   "metadata": {},
   "outputs": [],
   "source": [
    "ht = d - 3*d.subs(t,t-2) + 2*d.subs(t,t-3)"
   ]
  },
  {
   "cell_type": "code",
   "execution_count": null,
   "id": "0b9d93fa",
   "metadata": {},
   "outputs": [],
   "source": [
    "ht"
   ]
  },
  {
   "cell_type": "code",
   "execution_count": null,
   "id": "64f4a444",
   "metadata": {},
   "outputs": [],
   "source": [
    "c4=sp.plotting.plot(ht)"
   ]
  },
  {
   "cell_type": "code",
   "execution_count": null,
   "id": "5605c024",
   "metadata": {},
   "outputs": [],
   "source": []
  }
 ],
 "metadata": {
  "kernelspec": {
   "display_name": "Python 3 (ipykernel)",
   "language": "python",
   "name": "python3"
  },
  "language_info": {
   "codemirror_mode": {
    "name": "ipython",
    "version": 3
   },
   "file_extension": ".py",
   "mimetype": "text/x-python",
   "name": "python",
   "nbconvert_exporter": "python",
   "pygments_lexer": "ipython3",
   "version": "3.7.3"
  }
 },
 "nbformat": 4,
 "nbformat_minor": 5
}
