{
 "cells": [
  {
   "cell_type": "code",
   "execution_count": null,
   "id": "2bb5ce64",
   "metadata": {},
   "outputs": [],
   "source": [
    "import matplotlib.pyplot as plt\n",
    "import numpy as np\n",
    "from scipy.integrate import odeint\n",
    "import pylab as pl"
   ]
  },
  {
   "cell_type": "code",
   "execution_count": null,
   "id": "27d177eb",
   "metadata": {},
   "outputs": [],
   "source": [
    "# The 2-dimensional linear system.\n",
    "a, b, c, d = 2, 1, 1, 2\n",
    "def dx_dt(x, t):\n",
    "    return [a*x[0] + b*x[1], c*x[0] + d*x[1]]"
   ]
  },
  {
   "cell_type": "code",
   "execution_count": null,
   "id": "3a940a21",
   "metadata": {},
   "outputs": [],
   "source": [
    "ts = np.linspace(0, -4, 100)\n",
    "ic = np.linspace(-1, 1, 5)\n",
    "for r in ic:\n",
    "    for s in ic:\n",
    "        x0 = [r, s]\n",
    "        xs = odeint(dx_dt, x0, ts)\n",
    "        plt.plot(xs[:,0], xs[:,1], \"r-\")# Label the axes and set fontsizes.\n",
    "plt.xlabel('x', fontsize=15)\n",
    "plt.ylabel('y', fontsize=15)\n",
    "plt.tick_params(labelsize=15)\n",
    "plt.xlim(-1, 1)\n",
    "plt.ylim(-1, 1)\n",
    "X,Y = np.mgrid[-1:1:10j, -1:1:10j]\n",
    "u = a*X + b*Y\n",
    "v = c*X + d*Y\n",
    "pl.quiver(X, Y, u, v, color = 'b')\n",
    "plt.show()"
   ]
  },
  {
   "cell_type": "code",
   "execution_count": null,
   "id": "80fc9bd2",
   "metadata": {},
   "outputs": [],
   "source": []
  },
  {
   "cell_type": "code",
   "execution_count": null,
   "id": "94a8a903",
   "metadata": {},
   "outputs": [],
   "source": []
  },
  {
   "cell_type": "code",
   "execution_count": null,
   "id": "9f863b53",
   "metadata": {},
   "outputs": [],
   "source": [
    "# The 2-dimensional nonlinear system.\n",
    "def dx_dt(x, t):\n",
    "    return [x[1], x[0] * (1 - x[0]**2) + x[1]]"
   ]
  },
  {
   "cell_type": "code",
   "execution_count": null,
   "id": "21d7f206",
   "metadata": {},
   "outputs": [],
   "source": [
    "# Trajectories in forward time.\n",
    "ts = np.linspace(0, 10, 500)\n",
    "ic = np.linspace(-3, 3, 6)\n",
    "for r in ic:\n",
    "    for s in ic:\n",
    "        x0 = [r, s]\n",
    "        xs = odeint(dx_dt, x0, ts)\n",
    "        plt.plot(xs[:,0], xs[:,1], \"r-\")\n",
    "# Trajectories in backward time.\n",
    "ts = np.linspace(0, -10, 500)\n",
    "ic = np.linspace(-3, 3, 6)\n",
    "for r in ic:\n",
    "    for s in ic:\n",
    "        x0 = [r, s]\n",
    "        xs = odeint(dx_dt, x0, ts)\n",
    "        plt.plot(xs[:,0], xs[:,1], \"r-\")\n",
    "# Label the axes and set fontsizes.\n",
    "plt.xlabel(\"x\", fontsize=15)\n",
    "plt.ylabel(\"y\", fontsize=15)\n",
    "plt.tick_params(labelsize=15)\n",
    "plt.xlim(-3, 3)\n",
    "plt.ylim(-3, 3);\n",
    "# Plot the vectorfield.\n",
    "X, Y = np.mgrid[-3:3:20j, -3:3:20j]\n",
    "u=Y\n",
    "v=X * (1 - X**2) + Y\n",
    "pl.quiver(X, Y, u, v, color = 'b')\n",
    "plt.show()"
   ]
  },
  {
   "cell_type": "code",
   "execution_count": null,
   "id": "7a418f07",
   "metadata": {},
   "outputs": [],
   "source": []
  }
 ],
 "metadata": {
  "kernelspec": {
   "display_name": "Python 3 (ipykernel)",
   "language": "python",
   "name": "python3"
  },
  "language_info": {
   "codemirror_mode": {
    "name": "ipython",
    "version": 3
   },
   "file_extension": ".py",
   "mimetype": "text/x-python",
   "name": "python",
   "nbconvert_exporter": "python",
   "pygments_lexer": "ipython3",
   "version": "3.7.3"
  }
 },
 "nbformat": 4,
 "nbformat_minor": 5
}
