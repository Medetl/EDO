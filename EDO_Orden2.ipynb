{
 "cells": [
  {
   "cell_type": "code",
   "execution_count": null,
   "id": "0dbfcb55",
   "metadata": {},
   "outputs": [],
   "source": [
    "import numpy as np\n",
    "%matplotlib inline\n",
    "%config InlineBackend.figure_format='retina'\n",
    "import matplotlib.pyplot as plt\n",
    "import matplotlib as mpl\n",
    "# mpl.rcParams['text.usetex'] = True\n",
    "mpl.rcParams['mathtext.fontset'] = 'stix'\n",
    "mpl.rcParams['font.family'] = 'serif'\n",
    "mpl.rcParams['font.sans-serif'] = 'stix'\n",
    "import sympy\n",
    "sympy.init_printing()\n",
    "from scipy import integrate"
   ]
  },
  {
   "cell_type": "markdown",
   "id": "087d31b2",
   "metadata": {},
   "source": [
    "## Oscilador armónico"
   ]
  },
  {
   "cell_type": "code",
   "execution_count": null,
   "id": "75d1374b",
   "metadata": {},
   "outputs": [],
   "source": [
    "t, omega0 = sympy.symbols(\"t, omega_0\", positive=True)\n",
    "gamma = sympy.symbols(\"gamma\", complex=True)"
   ]
  },
  {
   "cell_type": "code",
   "execution_count": null,
   "id": "fe20c7e9",
   "metadata": {},
   "outputs": [],
   "source": [
    "x = sympy.Function(\"x\")"
   ]
  },
  {
   "cell_type": "code",
   "execution_count": null,
   "id": "7312e7e1",
   "metadata": {},
   "outputs": [],
   "source": [
    "ode = x(t).diff(t, 2) + 2 * gamma * omega0 * x(t).diff(t) + omega0**2 * x(t)"
   ]
  },
  {
   "cell_type": "code",
   "execution_count": null,
   "id": "132bfd6b",
   "metadata": {},
   "outputs": [],
   "source": [
    "ode"
   ]
  },
  {
   "cell_type": "code",
   "execution_count": null,
   "id": "a61daf96",
   "metadata": {},
   "outputs": [],
   "source": [
    "ode_sol = sympy.dsolve(ode)"
   ]
  },
  {
   "cell_type": "code",
   "execution_count": null,
   "id": "627cbee0",
   "metadata": {},
   "outputs": [],
   "source": [
    "ode_sol"
   ]
  },
  {
   "cell_type": "code",
   "execution_count": null,
   "id": "380299c4",
   "metadata": {},
   "outputs": [],
   "source": [
    "ics = {x(0): 1, x(t).diff(t).subs(t, 0): 0}"
   ]
  },
  {
   "cell_type": "code",
   "execution_count": null,
   "id": "dd8c03f7",
   "metadata": {},
   "outputs": [],
   "source": [
    "ics"
   ]
  },
  {
   "cell_type": "code",
   "execution_count": null,
   "id": "61efde93",
   "metadata": {},
   "outputs": [],
   "source": [
    "def apply_ics(sol, ics, x, known_params):\n",
    "    \"\"\"\n",
    "    Apply the initial conditions (ics), given as a dictionary on\n",
    "    the form ics = {y(0): y0: y(x).diff(x).subs(x, 0): yp0, ...}\n",
    "    to the solution of the ODE with indepdendent variable x.\n",
    "    The undetermined integration constants C1, C2, ... are extracted\n",
    "    from the free symbols of the ODE solution, excluding symbols in\n",
    "    the known_params list.\n",
    "    \"\"\"\n",
    "    free_params = sol.free_symbols - set(known_params)\n",
    "    eqs = [(sol.lhs.diff(x, n) - sol.rhs.diff(x, n)).subs(x, 0).subs(ics)\n",
    "           for n in range(len(ics))]\n",
    "    sol_params = sympy.solve(eqs, free_params)\n",
    "    return sol.subs(sol_params)"
   ]
  },
  {
   "cell_type": "code",
   "execution_count": null,
   "id": "d5e15b23",
   "metadata": {},
   "outputs": [],
   "source": [
    "x_t_sol = apply_ics(ode_sol, ics, t, [omega0, gamma])"
   ]
  },
  {
   "cell_type": "code",
   "execution_count": null,
   "id": "58902127",
   "metadata": {},
   "outputs": [],
   "source": [
    "x_t_sol"
   ]
  },
  {
   "cell_type": "code",
   "execution_count": null,
   "id": "0dd80841",
   "metadata": {},
   "outputs": [],
   "source": [
    "x_t_critical = sympy.limit(x_t_sol.rhs, gamma, 1)"
   ]
  },
  {
   "cell_type": "code",
   "execution_count": null,
   "id": "f5f68cd6",
   "metadata": {},
   "outputs": [],
   "source": [
    "x_t_critical"
   ]
  },
  {
   "cell_type": "code",
   "execution_count": null,
   "id": "451dc2cd",
   "metadata": {},
   "outputs": [],
   "source": [
    "fig, ax = plt.subplots(figsize=(8, 4))\n",
    "\n",
    "tt = np.linspace(0, 3, 250)\n",
    "for g in [0.1, 0.5, 1, 2.0, 5.0]:\n",
    "    if g == 1:\n",
    "        x_t = sympy.lambdify(t, x_t_critical.subs({omega0: 2.0 * sympy.pi}), 'numpy')\n",
    "    else:\n",
    "        x_t = sympy.lambdify(t, x_t_sol.rhs.subs({omega0: 2.0 * sympy.pi, gamma: g}), 'numpy')\n",
    "    ax.plot(tt, x_t(tt).real, label=r\"$\\gamma = %.1f$\" % g)\n",
    "\n",
    "ax.set_xlabel(r\"$t$\", fontsize=18)\n",
    "ax.set_ylabel(r\"$x(t)$\", fontsize=18)\n",
    "ax.set_xlim(0, 3)\n",
    "ax.legend()\n",
    "\n",
    "fig.tight_layout()\n",
    "#fig.savefig('harmonic-oscillator.pdf')"
   ]
  },
  {
   "cell_type": "code",
   "execution_count": null,
   "id": "aad35ec3",
   "metadata": {},
   "outputs": [],
   "source": []
  }
 ],
 "metadata": {
  "kernelspec": {
   "display_name": "Python 3 (ipykernel)",
   "language": "python",
   "name": "python3"
  },
  "language_info": {
   "codemirror_mode": {
    "name": "ipython",
    "version": 3
   },
   "file_extension": ".py",
   "mimetype": "text/x-python",
   "name": "python",
   "nbconvert_exporter": "python",
   "pygments_lexer": "ipython3",
   "version": "3.7.3"
  }
 },
 "nbformat": 4,
 "nbformat_minor": 5
}
