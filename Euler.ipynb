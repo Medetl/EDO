{
 "cells": [
  {
   "cell_type": "code",
   "execution_count": null,
   "metadata": {},
   "outputs": [],
   "source": [
    "import numpy as np\n",
    "import matplotlib.pyplot as plt"
   ]
  },
  {
   "cell_type": "code",
   "execution_count": null,
   "metadata": {},
   "outputs": [],
   "source": [
    "def plots(t,y, method):\n",
    "    plt.plot(t,y, 'ro', label=method)\n",
    "    x = np.linspace(t[0],t[-1],100)\n",
    "    plt.plot(x,fex(x),'-', label='Exacta')\n",
    "    plt.grid(True)\n",
    "    plt.legend()\n",
    "    plt.show()"
   ]
  },
  {
   "cell_type": "code",
   "execution_count": null,
   "metadata": {},
   "outputs": [],
   "source": [
    "def euler(y0, t0, tn, h):\n",
    "    \n",
    "    n = int((tn - t0) / h)\n",
    "    y = [y0]\n",
    "    t = [t0]\n",
    "   \n",
    "    print('|    t    |    y    | Exacta  | Error(%)|')\n",
    "    print('|{0:6.6f} |{1:6.6f} |{2:6.6f} |    -    | '.format(t[0],y[0],y[0]))\n",
    "\n",
    "    for i in range(n):\n",
    "        yi = y[i] + ode(t[i],y[i]) * h\n",
    "        y.append(yi)\n",
    "        \n",
    "        ti = t[i] + h\n",
    "        t.append(ti)\n",
    "        \n",
    "        fexi = fex(ti)\n",
    "        erri = abs((fexi - yi)/fexi)\n",
    "    \n",
    "        print('|{0:6.6f} |{1:6.6f} |{2:6.6f} |{3:6.6f} | '.format(ti,yi,fexi,erri))\n",
    "    \n",
    "    return t,y"
   ]
  },
  {
   "cell_type": "code",
   "execution_count": null,
   "metadata": {},
   "outputs": [],
   "source": [
    "def ode(t,y):\n",
    "    return y"
   ]
  },
  {
   "cell_type": "code",
   "execution_count": null,
   "metadata": {},
   "outputs": [],
   "source": [
    "def fex(x):\n",
    "    return np.exp(x)"
   ]
  },
  {
   "cell_type": "code",
   "execution_count": null,
   "metadata": {},
   "outputs": [],
   "source": [
    "#Datos iniciales\n",
    "t0 = 0.0\n",
    "y0 = 1.0\n",
    "tn = 2\n",
    "h = 0.1"
   ]
  },
  {
   "cell_type": "code",
   "execution_count": null,
   "metadata": {},
   "outputs": [],
   "source": [
    "t, y = euler(y0, t0, tn, h)"
   ]
  },
  {
   "cell_type": "code",
   "execution_count": null,
   "metadata": {},
   "outputs": [],
   "source": [
    "plots(t, y, 'Euler')"
   ]
  },
  {
   "cell_type": "code",
   "execution_count": null,
   "metadata": {},
   "outputs": [],
   "source": []
  }
 ],
 "metadata": {
  "kernelspec": {
   "display_name": "Python 3",
   "language": "python",
   "name": "python3"
  },
  "language_info": {
   "codemirror_mode": {
    "name": "ipython",
    "version": 3
   },
   "file_extension": ".py",
   "mimetype": "text/x-python",
   "name": "python",
   "nbconvert_exporter": "python",
   "pygments_lexer": "ipython3",
   "version": "3.8.3"
  }
 },
 "nbformat": 4,
 "nbformat_minor": 4
}
